{
 "cells": [
  {
   "cell_type": "markdown",
   "id": "1e618835",
   "metadata": {},
   "source": [
    "# Performing a convergence study\n",
    "\n",
    "This example shows how to perform a convergence study to find an appropriate discretisation parameters for the Brillouin zone (`kgrid`) and kinetic energy cutoff (`Ecut`), such that the simulation results are converged to a desired accuracy tolerance.\n",
    "\n",
    "Such a **convergence study** is generally performed by starting with a reasonalbe base line value for `kgrid` and `Ecut` and then increasing these parameters (i.e. using finer discretisations) until a desired property (such as the energy) changes less than the tolerance.\n",
    "This procedure must be performed for each discretisation parameter. Beyond the `Ecut` and the `kgrid` also convergence in the smearing temperature or other numerical parameters should be checked. For simplicity we will neglect this aspect in this example and concentrate on `Ecut` and `kgrid`. Moreover we will restrict ourselves to using the same number of $k$-points in each dimension of the Brillouin zone.\n",
    "\n",
    "As the objective of this study we consider bulk platinum. For running the SCF conveniently we define a function:"
   ]
  },
  {
   "cell_type": "code",
   "execution_count": null,
   "id": "382adc30",
   "metadata": {},
   "outputs": [],
   "source": [
    "using DFTK\n",
    "using Unitful\n",
    "using UnitfulAtomic\n",
    "using LinearAlgebra\n",
    "using Statistics\n",
    "\n",
    "function run_scf(; a=5.0, Ecut, nkpt, tol)\n",
    "    atoms    = [ElementPsp(:Pt, psp = load_psp(\"hgh/lda/Pt-q10\"))]\n",
    "    position = [zeros(3)]\n",
    "    lattice  = a * Matrix(I, 3, 3)\n",
    "\n",
    "    model  = model_LDA(lattice, atoms, position; temperature=1e-3)\n",
    "    basis  = PlaneWaveBasis(model; Ecut, kgrid=(nkpt, nkpt, nkpt))\n",
    "    println(\"Ecut = $Ecut, nkpt = $nkpt\")\n",
    "    self_consistent_field(basis; tol)\n",
    "end"
   ]
  },
  {
   "cell_type": "markdown",
   "id": "69c475ae",
   "metadata": {},
   "source": [
    "Moreover we define some parameters:"
   ]
  },
  {
   "cell_type": "code",
   "execution_count": null,
   "id": "2ebde8c0",
   "metadata": {},
   "outputs": [],
   "source": [
    "tol   = 1e-3   # Tolerance to which we target to converge\n",
    "nkpts = 1:18   # K-point range checked for convergence\n",
    "Ecuts = (300:50:1000)u\"eV\";  # Energy cutoff range checked for convergence"
   ]
  },
  {
   "cell_type": "markdown",
   "id": "16e589fd",
   "metadata": {},
   "source": [
    "As the first step we converge in the number of kpoints employed in each dimension of the Brillouin zone."
   ]
  },
  {
   "cell_type": "code",
   "execution_count": null,
   "id": "5c91ceca",
   "metadata": {},
   "outputs": [],
   "source": [
    "Ecut_kconv = mean(Ecuts)\n",
    "energies = [run_scf(; nkpt, tol=tol/50, Ecut=Ecut_kconv).energies.total for nkpt in nkpts]\n",
    "errors = abs.(energies[1:end-1] .- energies[end])\n",
    "iconv = findfirst(errors .< tol)\n",
    "nkpt_conv = nkpts[iconv]"
   ]
  },
  {
   "cell_type": "markdown",
   "id": "d37391f1",
   "metadata": {},
   "source": [
    "... and plot the obtained convergence:"
   ]
  },
  {
   "cell_type": "code",
   "execution_count": null,
   "id": "5efdfa94",
   "metadata": {},
   "outputs": [],
   "source": [
    "using Plots\n",
    "plot(nkpts[1:end-1], errors, dpi=300, lw=3, m=:o, yaxis=:log, label=\"\",\n",
    "     xlabel=\"k-grid\", ylabel=\"energy absolute error\")"
   ]
  },
  {
   "cell_type": "markdown",
   "id": "35d3ffaa",
   "metadata": {},
   "source": [
    "We continue to do the convergence in Ecut using the suggested k-point grid."
   ]
  },
  {
   "cell_type": "code",
   "execution_count": null,
   "id": "916ae8a7",
   "metadata": {},
   "outputs": [],
   "source": [
    "energies = [run_scf(; nkpt=nkpt_conv, tol=tol/10, Ecut).energies.total for Ecut in Ecuts]\n",
    "errors = abs.(energies[1:end-1] .- energies[end])\n",
    "iconv = findfirst(errors .< tol)\n",
    "Ecut_conv = Ecuts[iconv]"
   ]
  },
  {
   "cell_type": "markdown",
   "id": "8cf0d8bb",
   "metadata": {},
   "source": [
    "... and plot it:"
   ]
  },
  {
   "cell_type": "code",
   "execution_count": null,
   "id": "259c6936",
   "metadata": {},
   "outputs": [],
   "source": [
    "plot(ustrip.(Ecuts[1:end-1]), errors, dpi=300, lw=3, m=:o, yaxis=:log, label=\"\",\n",
    "     xlabel=\"Ecut (eV)\", ylabel=\"energy absolute error\")"
   ]
  }
 ],
 "metadata": {
  "kernelspec": {
   "display_name": "Julia 1.8.0",
   "language": "julia",
   "name": "julia-1.8"
  },
  "language_info": {
   "file_extension": ".jl",
   "mimetype": "application/julia",
   "name": "julia",
   "version": "1.8.0"
  }
 },
 "nbformat": 4,
 "nbformat_minor": 5
}
