{
 "cells": [
  {
   "cell_type": "markdown",
   "id": "825579f6",
   "metadata": {},
   "source": [
    "# Pseudopotentials\n",
    "\n",
    "It was discussed in the lecture that plane-wave DFT codes usually employ so-called pseudopotentials (PSP) to model the interaction of electrons and nuclei. Replacing the true Coulombic interaction by a PSP is an approximation. Multiple types of PSPs exist and from a mathematical perspective little is understood about the errors introduced by PSPs. However, from a physical point of view using PSPs is reasonable as it only effects the electron density close to the nuclei, which for most phaenomena only plays a minor role. On the upside PSPs turn out to make plane-wave calculations much more feasible.\n",
    "\n",
    "This aspect we will investigate numerically in this exercise. Our goal will be to determine the energy of a single neon atom using the so-called LDA approximation up to an absolute error of `0.1`. We will do this by an explicit convergence study, i.e. by increasing the basis size and improving the numerics until we are sure we have found the energy to this tolerance.\n",
    "\n",
    "Our computational setup is simple: We will put a single neon atom into a cubic box of length $a$. As DFTK uses periodic boundary conditions, this atom interacts spuriously with the neighbouring cells, introducing an error to our calculation. As $a \\to \\infty$ this error disappears, thus in principle convergence with increasing $a$ should be one parameter to study. For simplicitity (as large values of $a$ lead to very costly calculations) we will ignore this aspect here.\n",
    "\n",
    "The convergence parameter we will not ignore, however, is the $E_\\text{cut}$ parameter discussed in the lecture. This parameter determines the basis set size, thus the accuracy of the calculation. Again calculations get better for $E_\\text{cut} \\to \\infty$.\n",
    "\n",
    "In the language of DFTK the calculation we want to perform is:"
   ]
  },
  {
   "cell_type": "code",
   "execution_count": null,
   "id": "48d972a9",
   "metadata": {},
   "outputs": [],
   "source": [
    "using LinearAlgebra\n",
    "using DFTK\n",
    "\n",
    "# Numerical parameters\n",
    "#\n",
    "Ecut = 20  # Plane-wave basis cutoff\n",
    "\n",
    "# Use a HGH pseudopotential:\n",
    "Ne = ElementPsp(:Ne, psp=load_psp(\"hgh/lda/ne-q8\"))\n",
    "\n",
    "# Use the true Coulomb interaction:\n",
    "# Ne = ElementCoulomb(:Ne)\n",
    "#\n",
    "# End numerical parameters \n",
    "\n",
    "# Setup Cubic box and place neon atom in the middle\n",
    "a = 10    # Box size \n",
    "lattice   = a * Matrix(I, 3, 3)\n",
    "atoms     = [Ne]\n",
    "positions = [[0.5, 0.5, 0.5]]\n",
    "\n",
    "# Use LDA model, discretise and run SCF algorithm\n",
    "model  = model_LDA(lattice, atoms, positions)\n",
    "basis  = PlaneWaveBasis(model; Ecut, kgrid=[1, 1, 1])\n",
    "scfres = self_consistent_field(basis)\n",
    "Etot   = scfres.energies.total\n",
    "\n",
    "# Print total energy\n",
    "println(\"\\nTotal DFT energy is $Etot\")"
   ]
  },
  {
   "cell_type": "markdown",
   "id": "aed86287",
   "metadata": {},
   "source": [
    "**Warning:** DFT calculations can be both time and memory consuming. When doing these convergence studies therefore start with small values for `Ecut` (like the ones shown here) and increase slowly, especially if you are running these on a laptop with 8GB of main memory or less. You are not expected to re-compute the provided reference results."
   ]
  },
  {
   "cell_type": "markdown",
   "id": "86803639",
   "metadata": {},
   "source": [
    "**Exercise:**\n",
    "\n",
    "(a) First stick with the pseudpotential (PSP) version of the neon atom (`ElementPsp`). Converge the energy to an absolute error of `0.1`. The easiest way to do this is to run multiple calculations for different values of `Ecut` and to plot the error against a reference on a semilog scale. A good reference is at `Ecut = 600`, where the DFT energy is `-34.85376`.<br />\n",
    "*Hint:* If you want to do the plotting within Julia good, take a look at the [Plots.jl](http://docs.juliaplots.org/latest/gallery/gr/) documentation for some nice examples. Another good plotting package could be [PyPlot.jl](https://github.com/JuliaPy/PyPlot.jl), which has exactly the same interface as the `matplotlib` Python package.\n",
    "\n",
    "(b) Repeat the exercise for the all-electron case (`ElementCoulomb`). Here the reference result at `Ecut = 600` is `-123.5983`. Explore the convergence all the way up to `Ecut=100`. What differences in the obtained total energy as well as the convergence with `Ecut` do you observe? Suggest an explanaition keeping in mind that part of the idea of the PSP is to avoid the explicit treatment of the core electrons."
   ]
  }
 ],
 "metadata": {
  "kernelspec": {
   "display_name": "Julia 1.8.0",
   "language": "julia",
   "name": "julia-1.8"
  },
  "language_info": {
   "file_extension": ".jl",
   "mimetype": "application/julia",
   "name": "julia",
   "version": "1.8.0"
  }
 },
 "nbformat": 4,
 "nbformat_minor": 5
}
