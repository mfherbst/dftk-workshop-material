{
 "cells": [
  {
   "cell_type": "markdown",
   "id": "b881fea5",
   "metadata": {},
   "source": [
    "# SCF versus direct minimisation\n",
    "\n",
    "In this notebook we want to numerically investigate the convergence of SCF and direct minimisation as the gap of a system closes.\n",
    "\n",
    "<!--- Write your own DM algo (i.e. not optim) -->\n",
    "\n",
    "We will model this by considering a standard silicon lattice and increasing the lattice constant. We will use the following setup with increasing $a$:"
   ]
  },
  {
   "cell_type": "code",
   "execution_count": null,
   "id": "c2c2eb63",
   "metadata": {},
   "outputs": [],
   "source": [
    "using DFTK\n",
    "\n",
    "function silicon_setup(a=10.26; Ecut=15.0, kgrid=[1, 1, 1])\n",
    "    lattice = a / 2 * [[0 1 1.];\n",
    "                       [1 0 1.];\n",
    "                       [1 1 0.]]\n",
    "    \n",
    "    # Calculation parameters\n",
    "    Si = ElementPsp(:Si, psp=load_psp(\"hgh/lda/Si-q4\"))\n",
    "    atoms     = [Si, Si]\n",
    "    positions = [ones(3)/8, -ones(3)/8]\n",
    "    \n",
    "    # Construct the model\n",
    "    model = model_LDA(lattice, atoms, positions)\n",
    "    PlaneWaveBasis(model; Ecut, kgrid)\n",
    "end"
   ]
  },
  {
   "cell_type": "markdown",
   "id": "8b2f471c",
   "metadata": {},
   "source": [
    "**Exercise:**   \n",
    "(a) Run a damped SCF (without preconditioning) for $a = 10.5$ and $a = 11.4$. For both cases print the band gap. For this case with only one $k$-point is exactly the difference between the 5th (lowest unoccupied) and 4th (highest occupied) eigenvalue. You can od this as follows:\n",
    "\n",
    "```julia\n",
    "a = 10.5\n",
    "scfres = self_consistent_field(silicon_setup(a); is_converged=DFTK.ScfConvergenceDensity(1e-7), mixing=SimpleMixing(), damping=0.8);\n",
    "@show scfres.eigenvalues[1][5] - scfres.eigenvalues[1][4]\n",
    "```"
   ]
  },
  {
   "cell_type": "code",
   "execution_count": null,
   "id": "8bd228f3",
   "metadata": {},
   "outputs": [],
   "source": [
    "a = 10.5\n",
    "scfres = self_consistent_field(silicon_setup(a); is_converged=DFTK.ScfConvergenceDensity(1e-7), mixing=SimpleMixing(), damping=0.8);\n",
    "@show scfres.eigenvalues[1][5] - scfres.eigenvalues[1][4]"
   ]
  },
  {
   "cell_type": "markdown",
   "id": "57800285",
   "metadata": {},
   "source": [
    "(b) Compare the behaviour with direct minimisation for both values of the lattice constant $a$. You can run DM as follows:\n",
    "```julia\n",
    "using Optim\n",
    "\n",
    "a = 10.5\n",
    "dmres = direct_minimization(silicon_setup(a); tol=1e-7);\n",
    "```"
   ]
  }
 ],
 "metadata": {
  "kernelspec": {
   "display_name": "Julia 1.7.3",
   "language": "julia",
   "name": "julia-1.7"
  },
  "language_info": {
   "file_extension": ".jl",
   "mimetype": "application/julia",
   "name": "julia",
   "version": "1.7.3"
  }
 },
 "nbformat": 4,
 "nbformat_minor": 5
}
