{
 "cells": [
  {
   "cell_type": "markdown",
   "id": "c8d9697e",
   "metadata": {},
   "source": [
    "# Modelling atomic chains\n",
    "\n",
    "## Monoatomic chain\n",
    "\n",
    "In this notebook, we will explore some basic facts about periodic systems, starting from the very simplest model, a tight-binding monoatomic chain.\n",
    "\n",
    "In this model, each site of an infinite 1D chain is a degree of freedom, and the Hilbert space is $\\ell^2(\\mathbb Z)$, the space of square-summable biinfinite sequences $(\\psi_n)_{n \\in \\mathbb Z}$.\n",
    "\n",
    "Each site interacts by a \"hopping term\" with its neighbors, and the Hamiltonian is $$H = \\begin{pmatrix}\\dots&\\dots&\\dots&\\dots&\\dots \\\\ \\dots& 0 & 1 & 0 & \\dots\\\\\\dots&1 & 0 &1&\\dots \\\\\\dots&0 & 1 & 0& \\dots  \\\\ \\dots&\\dots&\\dots&\\dots&\\dots  \\end{pmatrix}$$\n",
    "\n",
    "**Exercice**: find the eigenstates and eigenvalues of this Hamiltonian by solving the second-order recurrence relation."
   ]
  },
  {
   "cell_type": "markdown",
   "id": "d5fbacd8",
   "metadata": {},
   "source": [
    "**Exercice**: do the same, when the system is truncated to a finite number of $N$ sites, with periodic boundary conditions."
   ]
  },
  {
   "cell_type": "markdown",
   "id": "d7e789af",
   "metadata": {},
   "source": [
    "We are now going to code this:"
   ]
  },
  {
   "cell_type": "code",
   "execution_count": null,
   "id": "3b1766fe",
   "metadata": {},
   "outputs": [],
   "source": [
    "# Uses periodic boundary conditions\n",
    "function build_monoatomic_hamiltonian(N, t)\n",
    "    H = zeros(N, N)\n",
    "    for n = 1:N-1\n",
    "        H[n, n+1] = H[n+1, n] = t\n",
    "    end\n",
    "    H[1, N] = H[N, 1] = t\n",
    "    H\n",
    "end"
   ]
  },
  {
   "cell_type": "markdown",
   "id": "80ca8507",
   "metadata": {},
   "source": [
    "**Exercice**: compute the eigenvalues and eigenvectors of this Hamiltonian. Plot them, and check whether they agree with theory."
   ]
  },
  {
   "cell_type": "markdown",
   "id": "bd6a1d2b",
   "metadata": {},
   "source": [
    "## Diatomic chain\n",
    "Now we are going to consider a diatomic chain A B A B ..., where the coupling A<->B ($t_1$) is different from the coupling B<->A ($t_2$). We will use a new index $\\alpha$ to denote the A and B sites, so that wavefunctions are now sequences $(\\psi_{\\alpha n})_{\\alpha \\in \\{1, 2\\}, n \\in \\mathbb Z}$. \n",
    "\n",
    "**Exercice**: show that eigenstates of this system can be looked for in the form $$ \\psi_{\\alpha n} = u_{\\alpha} \n",
    "e^{ikn}$$\n",
    "\n",
    "**Exercice**: show that, if $\\psi$ is of the form above, $$(H \\psi)_{\\alpha n} = (H_k u)_\\alpha e^{ikn},$$ where $$H_k = \\begin{pmatrix}0 & t_1 + t_2 e^{-ik}\\\\t_1 + t_2 e^{ik} & 0\\end{pmatrix}$$"
   ]
  },
  {
   "cell_type": "markdown",
   "id": "9ebebd43",
   "metadata": {},
   "source": [
    "Let's now check all this numerically:"
   ]
  },
  {
   "cell_type": "code",
   "execution_count": null,
   "id": "e390941c",
   "metadata": {},
   "outputs": [],
   "source": [
    "using Plots\n",
    "\n",
    "# A <-t1-> B <-t2-> A <-t1-> B ...\n",
    "function build_diatomic_hamiltonian(N, t1, t2)\n",
    "    H = zeros(2, N, 2, N)\n",
    "    A, B = 1, 2\n",
    "    for n = 1:N\n",
    "        # site A in cell n <-t1-> site B in cell n\n",
    "        H[A, n, B, n] = H[B, n, A, n] = t1\n",
    "\n",
    "    end\n",
    "    for n = 1:N-1\n",
    "        # site B in cell n <-t2-> site A in cell n+1\n",
    "        H[B, n, A, n+1] = H[A, n+1, B, n] = t2  \n",
    "    end\n",
    "    # site A in cell 1 <-t2-> site B in cell N\n",
    "    H[A, 1, B, N] = H[B, N, A, 1] = t2\n",
    "    reshape(H, 2N, 2N)\n",
    "end\n",
    "\n",
    "# returns Hk such that H (u e^ikn) = (Hk u) e^ikn\n",
    "function build_diatomic_Hk(k, t1, t2)\n",
    "    # intra-cell AB hopping of t1, plus inter-cell hopping t2 between\n",
    "    # site B (no phase shift) and site A (phase shift e^ik)\n",
    "    [0                 t1 + t2*exp(-im*k);\n",
    "     t1 + t2*exp(im*k) 0               ]\n",
    "end\n",
    "\n",
    "function plot_wf(ψ)\n",
    "    p = plot(real(ψ[1:2:end]), label=\"Re A\")\n",
    "    plot!(p, real(ψ[2:2:end]), label=\"Re B\")\n",
    "end"
   ]
  },
  {
   "cell_type": "markdown",
   "id": "38cbaa36",
   "metadata": {},
   "source": [
    "**Exercice**: check the above assertions. Use $k$ of the form $2 \\pi \\frac{l} N$ in order to have a $\\psi$ that has the periodicity of the supercell ($N$)."
   ]
  },
  {
   "cell_type": "markdown",
   "id": "93d54613",
   "metadata": {},
   "source": [
    "**Exercice**: plot the band structure (the eigenvalues of $H_k$ as a function of $k$). Compare with the eigenvalues of the (\"supercell\") Hamiltonian from build_diatomic_hamiltonian. In the case $t_1 = t_2$, how do the bands follow from the previous study of the monoatomic chain?"
   ]
  },
  {
   "cell_type": "markdown",
   "id": "05484d01",
   "metadata": {},
   "source": [
    "**Exercice**: repeat the above analysis in the case of a finite-difference discretization of a continuous Hamiltonian $H = - \\frac 1 2 \\Delta + V(x)$ where $V$ is periodic."
   ]
  }
 ],
 "metadata": {
  "@webio": {
   "lastCommId": null,
   "lastKernelId": null
  },
  "kernelspec": {
   "display_name": "Julia 1.7.3",
   "language": "julia",
   "name": "julia-1.7"
  },
  "language_info": {
   "file_extension": ".jl",
   "mimetype": "application/julia",
   "name": "julia",
   "version": "1.7.3"
  }
 },
 "nbformat": 4,
 "nbformat_minor": 5
}
