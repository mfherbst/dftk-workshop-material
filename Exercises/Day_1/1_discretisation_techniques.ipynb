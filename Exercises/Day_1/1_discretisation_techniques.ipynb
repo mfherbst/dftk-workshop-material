{
 "cells": [
  {
   "cell_type": "markdown",
   "id": "5323f430",
   "metadata": {},
   "source": [
    "## Discretisation techniques\n",
    "\n",
    "Here we consider the discretization of $H = - \\frac 1 2 \\Delta + V$ with $V(x) = \\cos(x)$ on $[0, 2\\pi]$ with periodic boundary conditions. (note that this is different from e.g. looking for the spectrum of $H$ on $\\mathbb R$)."
   ]
  },
  {
   "cell_type": "markdown",
   "id": "a543b108",
   "metadata": {},
   "source": [
    "## Finite differences\n",
    "We approximate functions on $[0, 2\\pi]$ by their values at grid points $x_k = 2\\pi \\frac{k}{N}$, $k=1, \\dots, N$. The boundary conditions are imposed by $\\psi(x_0) = \\psi(x_N), \\psi(x_{N+1}) = \\psi(x_0)$. We then have\n",
    "$$(H\\psi)(x_k) \\approx \\frac 1 2 \\frac{-\\psi_{k-1} + 2 \\psi_k - \\psi_{k+1}}{2 \\Delta x^2} + V(x_k) \\psi(x_k)$$ with $\\Delta x = 2 \\pi \\frac 1 N$.\n",
    "\n",
    "This can be put in matrix form in the following way:"
   ]
  },
  {
   "cell_type": "code",
   "execution_count": null,
   "id": "7be1f537",
   "metadata": {},
   "outputs": [],
   "source": [
    "# finite differences Hamiltonian -1/2 Delta + V on [0, 2pi] with periodic bc. Pass it a function V.\n",
    "function build_finite_differences_matrix(N, V)\n",
    "    Δx = 2π/N\n",
    "    # build the finite difference matrix. We could also build it iteratively with a for k=1:N ... end loop\n",
    "    T = 1/(2*Δx^2) * Tridiagonal(-ones(N-1), 2ones(N), -ones(N-1))\n",
    "    # The type Tridiagonal is efficient, but we want to add elements\n",
    "    # not on the three diagonals, so convert to Array\n",
    "    T = Array(T)\n",
    "    T[1,N] = T[N,1] = -1/(2*Δx^2)  # periodic bc\n",
    "    x_coords = [2π*k/N for k=1:N]\n",
    "    Vvals = V.(x_coords)  # calls V on each element of x_coords\n",
    "    # the types Tridiagonal and Diagonal are efficient but not necessarily easy\n",
    "    # to manipulate interactively, so we convert to plain old dense arrays\n",
    "    Array(T + Diagonal(Vvals)) \n",
    "end"
   ]
  },
  {
   "cell_type": "markdown",
   "id": "5797d4ee",
   "metadata": {},
   "source": [
    "**Exercice**: show that the finite difference approximation is an approximation of the second derivative. Obtain an estimate of the first eigenvalue of $H$."
   ]
  },
  {
   "cell_type": "markdown",
   "id": "ec602aa9",
   "metadata": {},
   "source": [
    "## Plane waves method"
   ]
  },
  {
   "cell_type": "markdown",
   "id": "9b893c1c",
   "metadata": {},
   "source": [
    "In this method, we expand states on the basis $e_G(x) = \\frac {1}{\\sqrt{2\\pi}} e^{iGx}$, for $G=-N,\\dots,N$."
   ]
  },
  {
   "cell_type": "markdown",
   "id": "4d5f00f4",
   "metadata": {},
   "source": [
    "**Exercice**: show that $\\langle e_G, e_{G'}\\rangle = \\delta_{G,G'}$, and $$\\langle e_G, H e_{G'}\\rangle = \\frac 1 2 |G|^2 \\delta_{G,G'}+ \\delta_{G, G'+1} + \\delta_{G, G'-1}.$$ What happens for a more general $V(x)$?"
   ]
  },
  {
   "cell_type": "markdown",
   "id": "91170d65",
   "metadata": {},
   "source": [
    "**Exercice**: code this, and check that this corresponds to the finite difference case. Compare accuracies."
   ]
  },
  {
   "cell_type": "markdown",
   "id": "bab9f1be",
   "metadata": {},
   "source": [
    "## Using DFTK\n",
    "### Setup"
   ]
  },
  {
   "cell_type": "code",
   "execution_count": null,
   "id": "861d5959",
   "metadata": {},
   "outputs": [],
   "source": [
    "using DFTK\n",
    "using LinearAlgebra\n",
    "using Plots\n",
    "\n",
    "# We deal with a 1D system. This is done in DFTK by having a 3D lattice with two lattice vectors set to zero.\n",
    "a = 2π\n",
    "lattice = a .* [[1 0 0.]; [0 0 0]; [0 0 0]];\n",
    "\n",
    "# define Hamiltonian = kinetic + potential\n",
    "terms = [Kinetic(),\n",
    "         ExternalFromReal(r -> cos(r[1])),  # r is a vector of size 3\n",
    "]\n",
    "model = Model(lattice; n_electrons=1, terms, spin_polarization=:spinless);  # one spinless electron\n",
    "\n",
    "# this defines the number of plane waves (N above) by the relationship 1/2 |G|^2 <= N\n",
    "Ecut = 500\n",
    "basis = PlaneWaveBasis(model; Ecut, kgrid=(1, 1, 1))\n",
    "# get the ground state. We set the diagtol (the tolerance of the eigensolver) to a small value\n",
    "# to better separate the two steps (SCF outer loop, and diagonalization inner loop)\n",
    "scfres = self_consistent_field(basis, tol=1e-4, determine_diagtol=DFTK.ScfDiagtol(diagtol_max=1e-8))\n",
    "scfres.energies"
   ]
  },
  {
   "cell_type": "markdown",
   "id": "fd8d0db5",
   "metadata": {},
   "source": [
    "On this simple linear (non-interacting) model, the SCF converges in one step. The ground state energy of is simply the lowest eigenvalue; it should match the smallest eigenvalue of $H$ computed above."
   ]
  },
  {
   "cell_type": "markdown",
   "id": "5fbb6b11",
   "metadata": {},
   "source": [
    "### Comparison"
   ]
  },
  {
   "cell_type": "markdown",
   "id": "ecbf7aa9",
   "metadata": {},
   "source": [
    "We can also get the first eigenvector (in the plane wave basis) and plot it"
   ]
  },
  {
   "cell_type": "code",
   "execution_count": null,
   "id": "8053fb4a",
   "metadata": {},
   "outputs": [],
   "source": [
    "ψ_fourier = scfres.ψ[1][:, 1];    # first k-point, all G components, first eigenvector\n",
    "# Transform the wave function to real space\n",
    "ψ = G_to_r(basis, basis.kpoints[1], ψ_fourier)[:, 1, 1]\n",
    "# eigenvectors are only defined up to a phase. We fix it by imposing that psi(0) is real\n",
    "ψ /= (ψ[1] / abs(ψ[1]))\n",
    "plot(real(ψ))"
   ]
  },
  {
   "cell_type": "markdown",
   "id": "3c590e1b",
   "metadata": {},
   "source": [
    "Again, it should match with the result above."
   ]
  },
  {
   "cell_type": "markdown",
   "id": "48dbd4a1",
   "metadata": {},
   "source": [
    "**Exercice**: look at the Fourier coefficients of $\\psi$ ($\\psi$_fourier) and compare with the result above."
   ]
  },
  {
   "cell_type": "markdown",
   "id": "8b5d8080",
   "metadata": {},
   "source": [
    "## The DFTK Hamiltonian\n",
    "We can ask DFTK for the Hamiltonian"
   ]
  },
  {
   "cell_type": "code",
   "execution_count": null,
   "id": "67aea9a6",
   "metadata": {},
   "outputs": [],
   "source": [
    "E, ham = energy_hamiltonian(basis, scfres.ψ, scfres.occupation; ρ=scfres.ρ)\n",
    "H = ham.blocks[1]\n",
    "typeof(H)"
   ]
  },
  {
   "cell_type": "markdown",
   "id": "491ccb1a",
   "metadata": {},
   "source": [
    "This is an opaque data structure, which encodes the Hamiltonian. What can we do with it?"
   ]
  },
  {
   "cell_type": "code",
   "execution_count": null,
   "id": "f00fbdef",
   "metadata": {},
   "outputs": [],
   "source": [
    "methodswith(typeof(H), supertypes=true)"
   ]
  },
  {
   "cell_type": "markdown",
   "id": "ffd2d765",
   "metadata": {},
   "source": [
    "This defines a number of methods. For instance, it can be used as a linear operator:"
   ]
  },
  {
   "cell_type": "code",
   "execution_count": null,
   "id": "9cab5d66",
   "metadata": {},
   "outputs": [],
   "source": [
    "H * randn(ComplexF64, length(G_vectors(basis, basis.kpoints[1])))"
   ]
  },
  {
   "cell_type": "markdown",
   "id": "ca577d31",
   "metadata": {},
   "source": [
    "We can also get its full matrix representation:"
   ]
  },
  {
   "cell_type": "code",
   "execution_count": null,
   "id": "b879b81a",
   "metadata": {},
   "outputs": [],
   "source": [
    "Array(H)"
   ]
  },
  {
   "cell_type": "markdown",
   "id": "8ea86428",
   "metadata": {},
   "source": [
    "**Exercice**: compare this matrix with the one you obtained previously, get its eigenvectors and eigenvalues. Try to guess the ordering of G vectors in DFTK.\n",
    "\n",
    "**Exercice**: increase the size of the problem, and compare the time spent by DFTK's internal diagonalization algorithms to a full diagonalization of Array(H)."
   ]
  }
 ],
 "metadata": {
  "@webio": {
   "lastCommId": null,
   "lastKernelId": null
  },
  "kernelspec": {
   "display_name": "Julia 1.7.3",
   "language": "julia",
   "name": "julia-1.7"
  },
  "language_info": {
   "file_extension": ".jl",
   "mimetype": "application/julia",
   "name": "julia",
   "version": "1.7.3"
  }
 },
 "nbformat": 4,
 "nbformat_minor": 5
}
