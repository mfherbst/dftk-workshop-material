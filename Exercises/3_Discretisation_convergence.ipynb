{
 "cells": [
  {
   "cell_type": "markdown",
   "id": "bbd68aee",
   "metadata": {},
   "source": [
    "TODO ... use the DFTK example"
   ]
  }
 ],
 "metadata": {
  "kernelspec": {
   "display_name": "Julia 1.7.3",
   "language": "julia",
   "name": "julia-1.7"
  },
  "language_info": {
   "file_extension": ".jl",
   "mimetype": "application/julia",
   "name": "julia",
   "version": "1.7.3"
  }
 },
 "nbformat": 4,
 "nbformat_minor": 5
}
