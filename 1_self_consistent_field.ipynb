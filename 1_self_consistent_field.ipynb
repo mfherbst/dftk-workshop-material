{
 "cells": [
  {
   "cell_type": "markdown",
   "id": "fa3c99f8",
   "metadata": {},
   "source": [
    "# Formulating the DFT problem\n",
    "\n",
    "## Preliminaries\n",
    "\n",
    "- The aim of density-functional theory (DFT) is to find an approximate description of the electronic structure, without solving the many-body Schrödinger equation.\n",
    "- We consider here the **discretised setting** in which e.g. a plane-wave basis of **size $N_b$** is used.\n",
    "- We describe the unknowns of our problem in terms of **density matrices** $P$, self-adjoint operators $P$ with $0 \\leq P \\leq 1$, which can be diagonalised\n",
    "$$ P = \\sum_i^{N_b} f_i |\\phi_i\\rangle \\langle \\phi_i|. $$\n",
    "with **occupation numbers** $0 \\leq f_i \\leq 1$ and orbitals $\\phi_i$.\n",
    "- As discussed the DFT solution is found by solving a **minimisation problem**\n",
    "  $$ \\min_{P\\in\\mathcal{P}} \\mathcal{E}(P) $$\n",
    "  where the set of admissable density matrices is\n",
    "  $$ \\mathcal{P} = \\left\\{P \\in \\mathbb{C}^{N_b \\times N_b}, P^\\dagger = P, 0 < P < 1 \\right\\}. $$\n",
    "- We work in the *grand-canonical ensemble*: We fix a chemical potential $\\mu$ and an inverse temperature $\\beta = 1/T$. Note that in this setting the number of electrons is *not fixed*. This is done to simplify the presented mathematical expressions, as e.g. fixing $N$ instead of $\\mu$ would introduce extra constraints yielding additional terms in some of the expressions presented here.\n",
    "\n",
    "- In this ensemble the appropriate energy to minimise is the **free energy** given by\n",
    "  $$ \\mathcal{E}(P) = \\mathcal{E}_0(P) - \\frac{1}{\\beta} \\mathrm{Tr}[s(P)] - \\mu \\mathrm{Tr}(P). $$\n",
    "\n",
    "- We introduced the fermionic entropy\n",
    "  $$ s(p) = -[p \\log p + (1-p) \\log (1-p)] $$\n",
    "  and a twice continuously differentiable function $\\mathcal{E}_0(P)$.\n",
    "- We take $\\mathcal{E}_0$ to be the **total DFT energy** of a semi-local DFT functional, i.e.\n",
    "  $$ \\mathcal{E}_\\text{DFT}(P)\n",
    "     = \\mathcal{E}_\\text{DFT}\\left(\\sum_i^{N_b} f_i |\\phi_i\\rangle \\langle \\phi_i|\\right)\n",
    "     = \\sum_{i=1}^{N_b} f_i \\int \\psi_i^\\ast \\left(-\\frac12 \\Delta\\right) \\psi_i\n",
    "    + \\int V_\\text{ext} \\rho + \\int \\left(v_c \\rho\\right) \\rho + E_\\text{xc}(\\rho) + E_\\text{nuclear}$$\n",
    "    with\n",
    "     * the electron **density** $\\rho = \\sum_i^{N_b} f_i |\\psi_i|^2$\n",
    "       being directly dependent on *all* orbitals.\n",
    "     * $\\sum_i f_i \\int \\psi_i^\\ast \\left(-\\frac12 \\Delta\\right) \\psi_i$ describing\n",
    "       the **kinetic** energy of the electrons\n",
    "     * $\\int V_\\text{ext} \\rho$ is the **external** potential energy,\n",
    "       i.e. the electron-nuclear interaction.\n",
    "     * $\\int \\left(v_c \\rho\\right) \\rho$ is the **Hartree** energy with $(v_c \\rho)$ being the classical Coulomb potential assoicated to the charge density $\\rho$ in a uniform neutralising background:\n",
    "     $$ - \\Delta (v_c \\rho) = 4\\pi \\rho $$\n",
    "     * $E_\\text{xc}(\\rho)$ is the **exchange-correlation**\n",
    "       (or XC) energy, which describes the electron-electron interaction beyond\n",
    "       the classical model.\n",
    "     * $E_\\text{nuclear}$: A fixed energy offset due to the repulsion of the nuclei\n",
    "       from each other."
   ]
  },
  {
   "cell_type": "markdown",
   "id": "4c6429cd",
   "metadata": {},
   "source": [
    "## First order conditions and self-consistent field equations\n",
    "- Differentiatating $\\mathcal{E}_0$ we get the **Kohn-Sham Hamiltonian**\n",
    "  $$ H_\\text{KS}(P) = \\nabla \\mathcal{E}_0(P).$$\n",
    "- Since $\\mathcal{E}$ diverges on the boundary of $\\mathcal{P}$,\n",
    "  the closure of $\\mathcal{P}$ is compact and $\\mathcal{E}$ is\n",
    "  differentiable, $\\mathcal{E}$ has at least one minimiser in $\\mathcal{P}$.\n",
    "- The first-order condition $\\nabla \\mathcal{E}(P) = 0$\n",
    "  on the above minisation problem gives\n",
    "  $$H_\\text{KS}(P) - \\mu - \\frac1{\\beta} s'(P) = \\nabla\\mathcal{E}(P) = 0$$\n",
    "- We introduce the **Fermi-Dirac map**\n",
    "  $$f_\\text{FD}(\\varepsilon) = \\frac{1}{1+e^{\\beta (\\varepsilon-\\mu)}}$$\n",
    "  and note\n",
    "  $$s'(p) = \\log\\left(\\frac{1-p}{p}\\right) \\qquad \\text{and} \\qquad\n",
    "  s'(f_\\text{FD}(\\varepsilon)) = \\beta(\\varepsilon - \\mu)$$.\n",
    "- This allows rewrite the first-order condition\n",
    "  as the **fixed-point problem**\n",
    "  $$P = f_\\text{FD}(H_\\text{KS}(P)),$$\n",
    "  the **self-consistent field problem**.\n",
    "  \n",
    "**Note:** The Fermi-Dirac map follows naturally\n",
    "from the Fermionic entropy. In practical calculations often other smearing functions are used at the place of $f_\\text{FD}$."
   ]
  },
  {
   "cell_type": "markdown",
   "id": "019284dc",
   "metadata": {},
   "source": [
    "## Density mixing\n",
    "\n",
    "- The formalism presented above (based on the density matrix $P$) is general, e.g. could also be applied to the Hartree-Fock problem or Hybrid-DFT if the functional $\\mathcal{E}_0$ is modified appropriately.\n",
    "- From the point of view of a numerical implementation it has, however, the disadvantage that it requires to treat density matrices, i.e. objects of size $N_b \\times N_b$. In particular for \"large\" basis sets (such as plane waves) where $N_b$ is regularly of the order of $10^5$ or $10^6$, this is challenging.\n",
    "- For semi-local DFT one is able to formulate the problem as a minimisation over only the density $\\rho$. This is advantageous since the density is an object of only size $N_b$.\n",
    "\n",
    "\n",
    "- To see this we collect the linear terms (kinetic energy and external interaction with the nuclei) in the **core Hamiltonian** $H_0$ and the non-linear terms in $g$, the Hartree-exchange-correlation energy. We then write\n",
    "\n",
    "  $$\\mathcal{E}_0(P) = \\mathrm{Tr}\\left(H_0 P\\right) + g(\\text{diag} P)$$\n",
    "  where $\\rho = \\text{diag} P$ is the density density corresponding to $P$.\n",
    "\n",
    "- Introducing the **Hartree-exchange-correlation potential**\n",
    "  $$ V(\\rho) = \\nabla g(\\rho) $$\n",
    "  we can write the gradient of $\\mathcal{E}_0$ (the KS Hamiltonian) in terms of the density only:\n",
    "\n",
    "  $$ H_\\text{KS}(P) = H_0 + \\text{diagm}\\, V(\\rho) $$\n",
    "\n",
    "  where $\\text{diagm}$ constructs the Fock matrix contribution from a given local potential.\n",
    "\n",
    "- In turn this allows to write the SCF fixed-point problem in terms of the density only:\n",
    "  $$ \\rho = \\text{diag} \\Big( f_\\text{FD}\\left[ H_0 + \\text{diagm}\\, V(\\rho) \\right] \\Big) = D(V(\\rho)) = F(\\rho)$$\n",
    "  where we introduced the short-hand\n",
    "  $$ D(V) = \\text{diag} \\Big( f_\\text{FD}\\left[ H_0 + \\text{diagm}\\, V \\right] \\Big)$$\n",
    "  for the potential to density map\n",
    "  and the map $F$ to denote the SCF update $F(\\rho) = D(V(\\rho))$.\n",
    "\n",
    "- Notice, that numerically computing $D(V)$ requires to diagonalise\n",
    "$$ \\left[ H_0 + \\text{diagm}\\,V  \\right] \\psi_i = \\varepsilon_i \\psi_i, $$\n",
    "  which allows to obtain the new density as\n",
    "  $$ \\rho = \\sum_{i=1}^{N_b} f_\\text{FD}(\\varepsilon_i) |\\psi_i|^2. $$\n",
    "  Since $V$ itself depends on $\\rho$, which depends on the eigenfunctions $\\psi_i$ one can alternatively view the SCF problem as a **non-linear eigenproblem**.\n",
    "- The diagonalisation required to compute $D(V)$ is the **expensive step** of an SCF procedure."
   ]
  },
  {
   "cell_type": "markdown",
   "id": "d353b178",
   "metadata": {},
   "source": [
    "## A first practical calculation\n",
    "\n",
    "- Before we discuss some algorithms, that can be employed to find a fixed point $\\rho_\\ast = F(\\rho_\\ast)$, we first consider how DFTK allows to solve such problems in practice.\n",
    "\n",
    "We will model a periodic silicon crystal.\n",
    "\n",
    "| <img src=\"img/Silicon_crystal.jpg\" width=180 height=180 /> |\n",
    "| --------------- |\n",
    "| silicon crystal |"
   ]
  },
  {
   "cell_type": "code",
   "execution_count": 1,
   "id": "9d1a252a",
   "metadata": {},
   "outputs": [
    {
     "ename": "LoadError",
     "evalue": "UndefVarError: terms_LDA not defined",
     "output_type": "error",
     "traceback": [
      "UndefVarError: terms_LDA not defined",
      "",
      "Stacktrace:",
      " [1] top-level scope",
      "   @ In[1]:14",
      " [2] eval",
      "   @ ./boot.jl:373 [inlined]",
      " [3] include_string(mapexpr::typeof(REPL.softscope), mod::Module, code::String, filename::String)",
      "   @ Base ./loading.jl:1196"
     ]
    }
   ],
   "source": [
    "using DFTK\n",
    "\n",
    "# Look up the structure of silicon in a book\n",
    "# and define the lattice and the atomic positions\n",
    "a = 10.26\n",
    "lattice = a / 2 * [[0 1 1.];\n",
    "                   [1 0 1.];\n",
    "                   [1 1 0.]]\n",
    "Si = ElementPsp(:Si, psp=load_psp(\"hgh/lda/si-q4\"))\n",
    "atoms = [Si, Si]\n",
    "positions = [-ones(3)/8, ones(3)/8]\n",
    "\n",
    "# Setup an LDA model in DFTK\n",
    "model = model_LDA(lattice, atoms, positions)\n",
    "\n",
    "# Discretise the problem in a plane-wave basis\n",
    "# We use a mesh of 2x2x2 k-Points in the Brillouin zone\n",
    "# and an energy cutoff of 13 Hartree\n",
    "basis  = PlaneWaveBasis(model; Ecut=15, kgrid=[2, 2, 2])\n",
    "\n",
    "# Run the SCF and catch the result:\n",
    "scfres = self_consistent_field(basis);"
   ]
  },
  {
   "cell_type": "markdown",
   "id": "5546af2e",
   "metadata": {},
   "source": [
    "Ok so this did something, but what?\n",
    "\n",
    "- First DFTK inspects the molecule to guess an initial density $\\rho_0$.\n",
    "- Then we solve $ \\rho = D(V(\\rho)) $ by computing\n",
    "  $D(V(\\rho_n))$ for a sequence of iterates $\\rho_n$ until input and output\n",
    "  are close enough, i.e. the residual\n",
    "  $$ R(\\rho_n) = D(V(\\rho_n)) - \\rho_n$$\n",
    "  is small. Then DFTK flags convergence.\n",
    "- We will discuss these algorithms in more details in the next notebook.\n",
    "\n",
    "In the end we obtained the ground-state energy of silicon as"
   ]
  },
  {
   "cell_type": "code",
   "execution_count": 3,
   "id": "0a477a8e",
   "metadata": {},
   "outputs": [
    {
     "ename": "LoadError",
     "evalue": "UndefVarError: scfres not defined",
     "output_type": "error",
     "traceback": [
      "UndefVarError: scfres not defined",
      "",
      "Stacktrace:",
      " [1] top-level scope",
      "   @ In[3]:1",
      " [2] eval",
      "   @ ./boot.jl:373 [inlined]",
      " [3] include_string(mapexpr::typeof(REPL.softscope), mod::Module, code::String, filename::String)",
      "   @ Base ./loading.jl:1196"
     ]
    }
   ],
   "source": [
    "scfres.energies"
   ]
  },
  {
   "cell_type": "markdown",
   "id": "1822b827",
   "metadata": {},
   "source": [
    "We can also look at the density:"
   ]
  },
  {
   "cell_type": "code",
   "execution_count": null,
   "id": "faf9e668",
   "metadata": {},
   "outputs": [],
   "source": [
    "using Plots\n",
    "heatmap(scfres.ρ[:, :, 5], c=:Blues)"
   ]
  },
  {
   "cell_type": "markdown",
   "id": "8e9a2b5f",
   "metadata": {},
   "source": [
    "... or access the eigenpairs of the final Hamiltonian diagonalisation\n",
    "in `scfres.ψ` and `scfres.eigenvalues`:"
   ]
  },
  {
   "cell_type": "code",
   "execution_count": null,
   "id": "6f5e5995",
   "metadata": {},
   "outputs": [],
   "source": [
    "scfres.eigenvalues"
   ]
  },
  {
   "cell_type": "markdown",
   "id": "cc28a448",
   "metadata": {},
   "source": [
    "It might come to a surprise for your why this does not return a flat list,\n",
    "but in fact a list of two lists. This will be clarified in the following\n",
    "\n",
    "\n",
    "**Remark:** Since silicon (and in fact all problems we will consider) are periodic,\n",
    "the Kohn-Sham Hamiltonian $H_\\text{KS}$ is also periodic.\n",
    "Therefore we are in the periodic setting discussed in the previous notebook\n",
    "and one is able to apply the Bloch transform to $H_\\text{KS}$.\n",
    "This allows to reformulate the DFT eigenproblem as \n",
    "\n",
    "$$\\left\\{\\begin{aligned}\n",
    "    &\\forall k\\in\\text{BZ}, \\ \\  1 \\leq i \\leq N: &\\left[\n",
    "     \\frac12 (-i \\nabla + k)^2 + \\text{diagm}\\big( V_\\text{ext} + V(\\rho) \\big) \\right] \\psi_{ki} &= \\varepsilon_{ki} \\psi_{ki}\\\\\n",
    "    &\\forall k\\in\\text{BZ}, \\ \\ 1 \\leq i, j \\leq N: &\\int \\psi_{ki}^\\ast \\psi_{kj} &= \\delta_{ij} \\\\\n",
    "    &&\\rho &= \\sum_{k\\in\\text{BZ}} \\sum_{i=1}^N 2 |\\psi_{ki}|^2\n",
    "\\end{aligned}\\right.$$\n",
    "\n",
    "In other words we can diagonalisate $H$ $k$-Point by $k$-Point\n",
    "and only at the level of computing the density we need to\n",
    "sum over $k$-Points.\n",
    "\n",
    "In DFTK most quantities in the `scfres` are therefore stored\n",
    "as a list over $k$-Points. Therefore\n",
    "```julia\n",
    "    scfres.eigenvalues[1]\n",
    "```\n",
    "gives access to the $\\varepsilon_{ki}$ for the first $k$-Point."
   ]
  },
  {
   "cell_type": "markdown",
   "id": "allied-tract",
   "metadata": {},
   "source": [
    "In our problem we used `kgrid=[2,2,2]`. One would therefore expect 8 $k$-Points\n",
    "to be present in the discretisation. As it turns out there are only"
   ]
  },
  {
   "cell_type": "code",
   "execution_count": null,
   "id": "delayed-installation",
   "metadata": {},
   "outputs": [],
   "source": [
    "length(basis.kpoints)"
   ]
  },
  {
   "cell_type": "markdown",
   "id": "charming-portugal",
   "metadata": {},
   "source": [
    "The reason for this is that the symmetries of the problem allow to make further reductions in effort. If we disable symmetries, we get the expected 8 $k$-Points:"
   ]
  },
  {
   "cell_type": "code",
   "execution_count": null,
   "id": "manual-jordan",
   "metadata": {},
   "outputs": [],
   "source": [
    "model_nosym = Model(lattice; atoms, terms=terms_LDA, symmetries=false)\n",
    "length(PlaneWaveBasis(model_nosym; Ecut=15, kgrid=(2, 2, 2)).kpoints)"
   ]
  },
  {
   "cell_type": "markdown",
   "id": "perceived-undergraduate",
   "metadata": {},
   "source": [
    "To conclude this section, let us plot the band structure of silicon,\n",
    "i.e. the relationship between the eigenvalues of $H$\n",
    "and the position $k$ inside the Brillouin zone.\n",
    "(For more details see the previous notebook)."
   ]
  },
  {
   "cell_type": "code",
   "execution_count": null,
   "id": "single-poultry",
   "metadata": {},
   "outputs": [],
   "source": [
    "plot_bandstructure(scfres)"
   ]
  }
 ],
 "metadata": {
  "kernelspec": {
   "display_name": "Julia (4 threads) 1.7.3",
   "language": "julia",
   "name": "julia-(4-threads)-1.7"
  },
  "language_info": {
   "file_extension": ".jl",
   "mimetype": "application/julia",
   "name": "julia",
   "version": "1.7.3"
  }
 },
 "nbformat": 4,
 "nbformat_minor": 5
}
