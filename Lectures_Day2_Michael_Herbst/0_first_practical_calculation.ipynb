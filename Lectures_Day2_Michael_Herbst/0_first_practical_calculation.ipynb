{
 "cells": [
  {
   "cell_type": "markdown",
   "id": "00290209",
   "metadata": {},
   "source": [
    "# A first practical calculation\n",
    "\n",
    "We will model a periodic silicon crystal.\n",
    "\n",
    "| <img src=\"img/Silicon_crystal.jpg\" width=180 height=180 /> |\n",
    "| --------------- |\n",
    "| silicon crystal |\n",
    "\n",
    "To model this in DFTK we run:"
   ]
  },
  {
   "cell_type": "code",
   "execution_count": null,
   "id": "7af8bc4a",
   "metadata": {},
   "outputs": [],
   "source": [
    "using DFTK\n",
    "\n",
    "# Look up the structure of silicon in a book\n",
    "# and define the lattice and the atomic positions\n",
    "a = 10.26\n",
    "lattice = a / 2 * [[0 1 1.];\n",
    "                   [1 0 1.];\n",
    "                   [1 1 0.]]\n",
    "Si = ElementPsp(:Si, psp=load_psp(\"hgh/lda/si-q4\"))\n",
    "atoms = [Si, Si]\n",
    "positions = [-ones(3)/8, ones(3)/8]\n",
    "\n",
    "# Setup an LDA model in DFTK\n",
    "model = model_LDA(lattice, atoms, positions)\n",
    "\n",
    "# Discretise the problem in a plane-wave basis\n",
    "# We use a mesh of 2x2x2 k-Points in the Brillouin zone\n",
    "# and an energy cutoff of 7 Hartree\n",
    "basis  = PlaneWaveBasis(model; Ecut=7, kgrid=[2, 2, 2])\n",
    "\n",
    "# Run the SCF and catch the result:\n",
    "scfres = self_consistent_field(basis);"
   ]
  },
  {
   "cell_type": "markdown",
   "id": "a16494ae",
   "metadata": {},
   "source": [
    "This sets up the DFT problem (in this case LDA), constructs an initial guess from the passed structure and then runs an SCF algorithms (details in the next notebooks) to solve it.\n",
    "\n",
    "The columns of the output indicate the current DFT energy as well as the logarithmic change in energy and density. The last column gives the number of iterations the iterative diagonalisation of the DFT Hamiltonian took.\n",
    "\n",
    "In the end we obtained the ground-state energy of silicon as"
   ]
  },
  {
   "cell_type": "code",
   "execution_count": null,
   "id": "0a477a8e",
   "metadata": {},
   "outputs": [],
   "source": [
    "scfres.energies"
   ]
  },
  {
   "cell_type": "markdown",
   "id": "1822b827",
   "metadata": {},
   "source": [
    "We can also look at the density:"
   ]
  },
  {
   "cell_type": "code",
   "execution_count": null,
   "id": "faf9e668",
   "metadata": {},
   "outputs": [],
   "source": [
    "using Plots\n",
    "heatmap(scfres.ρ[:, :, 5], c=:Blues)"
   ]
  },
  {
   "cell_type": "markdown",
   "id": "8e9a2b5f",
   "metadata": {},
   "source": [
    "... or access the eigenpairs of the final Hamiltonian diagonalisation\n",
    "in `scfres.ψ` and `scfres.eigenvalues`:"
   ]
  },
  {
   "cell_type": "code",
   "execution_count": null,
   "id": "6f5e5995",
   "metadata": {},
   "outputs": [],
   "source": [
    "scfres.eigenvalues"
   ]
  },
  {
   "cell_type": "markdown",
   "id": "cc28a448",
   "metadata": {},
   "source": [
    "It might come to a surprise for your why this does not return a flat list,\n",
    "but in fact a list of two lists. This will be clarified in the following.\n",
    "\n",
    "Since the perfect silicon crystal is a periodic material,\n",
    "the Kohn-Sham Hamiltonian $H_\\text{KS}$ arising in DFT is symmetric with respect to lattice translations.\n",
    "See the [next notebook for a derivation](1_self_consistent_field.ipynb).\n",
    "\n",
    "To avoid the modelling of supercells,\n",
    "we employ the Bloch ansatz $\\psi_{nk}(x) = e^{ikx} u_{nk}(x)$\n",
    "to $H_\\text{KS}$ as discussed before and obtain:\n",
    "\n",
    "$$\\left\\{\\begin{aligned}\n",
    "    &\\forall k\\in\\text{BZ}, \\ \\  1 \\leq n \\leq N: &\\left[\n",
    "     \\frac12 (-i \\nabla + k)^2 + \\text{diagm}\\big( V_\\text{ext} + V(\\rho) \\big) \\right] u_{nk} &= \\varepsilon_{nk} u_{nk}\\\\\n",
    "         &\\forall k\\in\\text{BZ}, \\ \\ 1 \\leq n, m \\leq N: &\\int_{\\Gamma} u_{nk}^\\ast u_{mk} &= \\delta_{nm} \\\\\n",
    "    &&\\rho &= \\sum_{k\\in\\text{BZ}} \\sum_{n=1}^N f_\\text{FD}(\\varepsilon_{nk}) |\\psi_{nk}|^2\n",
    "\\end{aligned}\\right.,$$\n",
    "where $\\Gamma$ denotes the unit cell.\n",
    "\n",
    "In other words we can diagonalise $H$ $k$-Point by $k$-Point\n",
    "and only at the level of computing the density we need to\n",
    "sum over $k$-Points.\n",
    "\n",
    "In DFTK most quantities in the `scfres` are therefore stored\n",
    "as a list over $k$-Points. Therefore\n",
    "```julia\n",
    "    scfres.eigenvalues[1]\n",
    "```\n",
    "gives access to the $\\varepsilon_{nk}$ for the first $k$-Point, which by convention is the $\\Gamma$ point."
   ]
  },
  {
   "cell_type": "markdown",
   "id": "e7229d88",
   "metadata": {},
   "source": [
    "We can also access the DFT Hamiltonian in a convenient way. For example"
   ]
  },
  {
   "cell_type": "code",
   "execution_count": null,
   "id": "fcd6d100",
   "metadata": {},
   "outputs": [],
   "source": [
    "ham = scfres.ham;"
   ]
  },
  {
   "cell_type": "markdown",
   "id": "bb825eb7",
   "metadata": {},
   "source": [
    "contains a representation of the full Hamiltonian. Internally it stores representation of individual $k$-point blocks, which behave like a linear operator, e.g. we can multiply it with an array etc."
   ]
  },
  {
   "cell_type": "code",
   "execution_count": null,
   "id": "c50da1e5",
   "metadata": {},
   "outputs": [],
   "source": [
    "hamGamma = scfres.ham.blocks[1];  # Return the (H_k) corresponding to the Γ-point\n",
    "\n",
    "# Build random vector of a size compatible with hamGamma\n",
    "A = randn(ComplexF64, size(hamGamma, 2), 1);\n",
    "A ./= norm(A)  # Normalise\n",
    "ritz = A' * (hamGamma * A);  # Form Reighlay quotient"
   ]
  },
  {
   "cell_type": "markdown",
   "id": "e3a02824",
   "metadata": {},
   "source": [
    "This allows to use standard iterative solvers (like LOBPCG) to diagonalise a Hamiltonian. Here we search for `size(A, 2) = 1` eigenpairs."
   ]
  },
  {
   "cell_type": "code",
   "execution_count": null,
   "id": "7b60070d",
   "metadata": {},
   "outputs": [],
   "source": [
    "diagres = DFTK.lobpcg_hyper(hamGamma, A; prec=PreconditionerTPA(hamGamma.basis, hamGamma.kpoint));\n",
    "@show diagres.λ diagres.iterations"
   ]
  },
  {
   "cell_type": "markdown",
   "id": "8dc6f40b",
   "metadata": {},
   "source": [
    "For debugging it is possible to directly obtain the DFT Hamiltonian as a dense matrix. An alternative way to diagonalise (albeit much slower) is thus:"
   ]
  },
  {
   "cell_type": "code",
   "execution_count": null,
   "id": "f01f186d",
   "metadata": {},
   "outputs": [],
   "source": [
    "matGamma = Array(hamGamma)\n",
    "eigvals(Hermitian(matGamma), 1:1)"
   ]
  },
  {
   "cell_type": "markdown",
   "id": "232ab2aa",
   "metadata": {},
   "source": [
    "For convenience DFTK also provides a wrapper to diagonalise all k points at once, e.g."
   ]
  },
  {
   "cell_type": "code",
   "execution_count": null,
   "id": "8aa7bfd2",
   "metadata": {},
   "outputs": [],
   "source": [
    "nev_per_kpoint = 8\n",
    "eigres = DFTK.diagonalize_all_kblocks(lobpcg_hyper, ham, nev_per_kpoint);\n",
    "@show eigres.λ[1];  # Eigenvalues at the Gamma point"
   ]
  },
  {
   "cell_type": "markdown",
   "id": "23006ac9",
   "metadata": {},
   "source": [
    "Similar to the Himiltonian a number of other intrinsic DFT quantities are readily available from DFTK. Moreover we have a convention in the code mapping physical constitiuents of plane-wave DFT (e.g. the block wave $\\psi_k$, the basis, the Hamiltonian) consistently to objects in the code. [An overview](https://docs.dftk.org/stable/guide/periodic_problems/#Correspondence-of-theory-to-DFTK-code) is given in the [DFTK documentation](https://docs.dftk.org/stable/guide/periodic_problems/#Correspondence-of-theory-to-DFTK-code)."
   ]
  },
  {
   "cell_type": "markdown",
   "id": "allied-tract",
   "metadata": {},
   "source": [
    "In our Silicon problem above we used a `kgrid=[2,2,2]` for the BZ discretisation. One would therefore expect 8 $k$-Points\n",
    "to be present in the discretisation. As it turns out there are only"
   ]
  },
  {
   "cell_type": "code",
   "execution_count": null,
   "id": "delayed-installation",
   "metadata": {},
   "outputs": [],
   "source": [
    "length(basis.kpoints)"
   ]
  },
  {
   "cell_type": "markdown",
   "id": "charming-portugal",
   "metadata": {},
   "source": [
    "The reason for this is that the symmetries of the problem allow to make further reductions in effort. If we disable symmetries, we get the expected 8 $k$-Points:"
   ]
  },
  {
   "cell_type": "code",
   "execution_count": null,
   "id": "manual-jordan",
   "metadata": {},
   "outputs": [],
   "source": [
    "model_nosym = model_LDA(lattice, atoms, positions, symmetries=false)\n",
    "length(PlaneWaveBasis(model_nosym; Ecut=15, kgrid=(2, 2, 2)).kpoints)"
   ]
  },
  {
   "cell_type": "markdown",
   "id": "perceived-undergraduate",
   "metadata": {},
   "source": [
    "To conclude this section, let us plot the band structure of silicon,\n",
    "i.e. the relationship between the eigenvalues of $H$\n",
    "and the position $k$ inside the Brillouin zone.\n",
    "(For more details see the previous notebook)."
   ]
  },
  {
   "cell_type": "code",
   "execution_count": null,
   "id": "single-poultry",
   "metadata": {},
   "outputs": [],
   "source": [
    "plot_bandstructure(scfres)"
   ]
  }
 ],
 "metadata": {
  "@webio": {
   "lastCommId": null,
   "lastKernelId": null
  },
  "kernelspec": {
   "display_name": "Julia 1.8.0",
   "language": "julia",
   "name": "julia-1.8"
  },
  "language_info": {
   "file_extension": ".jl",
   "mimetype": "application/julia",
   "name": "julia",
   "version": "1.8.0"
  }
 },
 "nbformat": 4,
 "nbformat_minor": 5
}
